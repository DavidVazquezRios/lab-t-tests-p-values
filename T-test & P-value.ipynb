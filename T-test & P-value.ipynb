{
 "cells": [
  {
   "cell_type": "markdown",
   "id": "f13d6e83",
   "metadata": {},
   "source": [
    "# Lab | Inferential statistics - T-test & P-value\n",
    "Instructions\n",
    "\n",
    "    We will have another simple example on two sample t test (pooled- when the variances are equal). But this time this is a one sided t-test\n",
    "\n",
    "In a packing plant, a machine packs cartons with jars. It is supposed that a new machine will pack faster on the average than the machine currently used. To test that hypothesis, the times it takes each machine to pack ten cartons are recorded. The results, in seconds, are shown in the tables in the file files_for_lab/machine.txt. Assume that there is sufficient evidence to conduct the t test, does the data provide sufficient evidence to show if one machine is better than the other"
   ]
  },
  {
   "cell_type": "code",
   "execution_count": 1,
   "id": "e3af5885",
   "metadata": {},
   "outputs": [],
   "source": [
    "import numpy as np"
   ]
  },
  {
   "cell_type": "markdown",
   "id": "1034018c",
   "metadata": {},
   "source": [
    "H0: unew = uold\n",
    "\n",
    "H1: unew < uold"
   ]
  },
  {
   "cell_type": "code",
   "execution_count": 2,
   "id": "aaa9a0f5",
   "metadata": {},
   "outputs": [],
   "source": [
    "from scipy.stats import ttest_ind, norm\n",
    "from scipy.stats import t"
   ]
  },
  {
   "cell_type": "code",
   "execution_count": 3,
   "id": "38ddd55b",
   "metadata": {},
   "outputs": [],
   "source": [
    "new_machine = [42.1,41,41.3, 41.8, 42.4, 42.8, 43.2,42.3,41.8,42.7]"
   ]
  },
  {
   "cell_type": "code",
   "execution_count": 4,
   "id": "1baed88c",
   "metadata": {},
   "outputs": [],
   "source": [
    "old_machine =[42.7,43.6,43.8,43.3,42.5,43.5,43.1,41.7,44,44.1]"
   ]
  },
  {
   "cell_type": "code",
   "execution_count": 5,
   "id": "65e0ed07",
   "metadata": {},
   "outputs": [],
   "source": [
    "new_mean = np.mean(new_machine)\n",
    "new_sd = np.std(new_machine)"
   ]
  },
  {
   "cell_type": "code",
   "execution_count": 6,
   "id": "20c85beb",
   "metadata": {},
   "outputs": [],
   "source": [
    "old_mean = np.mean(old_machine)\n",
    "old_sd = np.std(old_machine)"
   ]
  },
  {
   "cell_type": "code",
   "execution_count": 7,
   "id": "1ed2f811",
   "metadata": {},
   "outputs": [
    {
     "data": {
      "text/plain": [
       "43.230000000000004"
      ]
     },
     "execution_count": 7,
     "metadata": {},
     "output_type": "execute_result"
    }
   ],
   "source": [
    "old_mean"
   ]
  },
  {
   "cell_type": "code",
   "execution_count": 8,
   "id": "9f7895fa",
   "metadata": {},
   "outputs": [
    {
     "data": {
      "text/plain": [
       "42.14"
      ]
     },
     "execution_count": 8,
     "metadata": {},
     "output_type": "execute_result"
    }
   ],
   "source": [
    "new_mean"
   ]
  },
  {
   "cell_type": "code",
   "execution_count": 9,
   "id": "7081e5e9",
   "metadata": {},
   "outputs": [],
   "source": [
    "new_dof=len(new_machine)-1\n",
    "old_dof=len(old_machine)-1"
   ]
  },
  {
   "cell_type": "code",
   "execution_count": 10,
   "id": "b67a202d",
   "metadata": {},
   "outputs": [],
   "source": [
    "sp=np.sqrt((((new_dof)*new_sd**2)+((old_dof)*old_sd**2))/(new_dof+old_dof))"
   ]
  },
  {
   "cell_type": "code",
   "execution_count": 11,
   "id": "84877fca",
   "metadata": {
    "scrolled": true
   },
   "outputs": [
    {
     "data": {
      "text/plain": [
       "0.6806247130394253"
      ]
     },
     "execution_count": 11,
     "metadata": {},
     "output_type": "execute_result"
    }
   ],
   "source": [
    "sp"
   ]
  },
  {
   "cell_type": "code",
   "execution_count": 12,
   "id": "db40869c",
   "metadata": {},
   "outputs": [],
   "source": [
    "t_val = (new_mean-old_mean)/(sp*np.sqrt((1/len(new_machine))+(1/len(old_machine))))"
   ]
  },
  {
   "cell_type": "code",
   "execution_count": 13,
   "id": "b39bfde3",
   "metadata": {},
   "outputs": [
    {
     "data": {
      "text/plain": [
       "-3.5809955894645813"
      ]
     },
     "execution_count": 13,
     "metadata": {},
     "output_type": "execute_result"
    }
   ],
   "source": [
    "t_val"
   ]
  },
  {
   "cell_type": "code",
   "execution_count": 15,
   "id": "0ab2d1ce",
   "metadata": {},
   "outputs": [],
   "source": [
    "p = 1 - t.cdf(t_val,(new_dof+old_dof))"
   ]
  },
  {
   "cell_type": "code",
   "execution_count": 18,
   "id": "23e19e0c",
   "metadata": {},
   "outputs": [
    {
     "data": {
      "text/plain": [
       "0.9989322065983063"
      ]
     },
     "execution_count": 18,
     "metadata": {},
     "output_type": "execute_result"
    }
   ],
   "source": [
    "p"
   ]
  },
  {
   "cell_type": "code",
   "execution_count": null,
   "id": "890a63cd",
   "metadata": {},
   "outputs": [],
   "source": [
    "#P value is very high, we can't reject the null hypothesis "
   ]
  },
  {
   "cell_type": "code",
   "execution_count": null,
   "id": "20ba1aa8",
   "metadata": {},
   "outputs": [],
   "source": []
  }
 ],
 "metadata": {
  "kernelspec": {
   "display_name": "Python 3 (ipykernel)",
   "language": "python",
   "name": "python3"
  },
  "language_info": {
   "codemirror_mode": {
    "name": "ipython",
    "version": 3
   },
   "file_extension": ".py",
   "mimetype": "text/x-python",
   "name": "python",
   "nbconvert_exporter": "python",
   "pygments_lexer": "ipython3",
   "version": "3.9.7"
  }
 },
 "nbformat": 4,
 "nbformat_minor": 5
}
